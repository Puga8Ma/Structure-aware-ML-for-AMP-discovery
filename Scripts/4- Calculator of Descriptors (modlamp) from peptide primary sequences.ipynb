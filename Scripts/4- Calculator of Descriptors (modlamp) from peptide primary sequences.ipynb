{
 "cells": [
  {
   "cell_type": "markdown",
   "metadata": {},
   "source": [
    "Some descriptors from the ModlAMP package were used to calculate physicochemical properties from the peptide sequences.\n",
    "\n",
    "Reference:\n",
    "Müller A. T. et al. (2017) modlAMP: Python for antimicrobial peptides, Bioinformatics 33, (17), 2753-2755, DOI:10.1093/bioinformatics/btx285"
   ]
  },
  {
   "cell_type": "markdown",
   "metadata": {},
   "source": [
    "## Set directory"
   ]
  },
  {
   "cell_type": "code",
   "execution_count": 1,
   "metadata": {},
   "outputs": [
    {
     "data": {
      "text/plain": [
       "'C:\\\\Users\\\\sakma\\\\Proyectos python\\\\Artículo ordenado'"
      ]
     },
     "execution_count": 1,
     "metadata": {},
     "output_type": "execute_result"
    }
   ],
   "source": [
    "pwd"
   ]
  },
  {
   "cell_type": "markdown",
   "metadata": {},
   "source": [
    "## Modules"
   ]
  },
  {
   "cell_type": "code",
   "execution_count": 2,
   "metadata": {
    "scrolled": true
   },
   "outputs": [
    {
     "name": "stdout",
     "output_type": "stream",
     "text": [
      "Requirement already satisfied: modlamp in c:\\users\\sakma\\anaconda3\\lib\\site-packages (4.3.0)Note: you may need to restart the kernel to use updated packages.\n",
      "\n",
      "Requirement already satisfied: requests>=2.11.1 in c:\\users\\sakma\\anaconda3\\lib\\site-packages (from modlamp) (2.28.1)\n",
      "Requirement already satisfied: matplotlib>=1.5.1 in c:\\users\\sakma\\anaconda3\\lib\\site-packages (from modlamp) (3.7.0)\n",
      "Requirement already satisfied: scipy>=0.17.0 in c:\\users\\sakma\\anaconda3\\lib\\site-packages (from modlamp) (1.10.0)\n",
      "Requirement already satisfied: pandas>=0.18.1 in c:\\users\\sakma\\anaconda3\\lib\\site-packages (from modlamp) (1.5.3)\n",
      "Requirement already satisfied: lxml>=3.6.4 in c:\\users\\sakma\\anaconda3\\lib\\site-packages (from modlamp) (4.9.1)\n",
      "Requirement already satisfied: numpy>=1.10.4 in c:\\users\\sakma\\anaconda3\\lib\\site-packages (from modlamp) (1.23.5)\n",
      "Requirement already satisfied: nose>=1.3.7 in c:\\users\\sakma\\anaconda3\\lib\\site-packages (from modlamp) (1.3.7)\n",
      "Requirement already satisfied: setuptools>=20.2.2 in c:\\users\\sakma\\anaconda3\\lib\\site-packages (from modlamp) (65.6.3)\n",
      "Requirement already satisfied: joblib>=0.15.1 in c:\\users\\sakma\\anaconda3\\lib\\site-packages (from modlamp) (1.1.1)\n",
      "Requirement already satisfied: scikit-learn>=0.18.0 in c:\\users\\sakma\\anaconda3\\lib\\site-packages (from modlamp) (1.2.1)\n",
      "Requirement already satisfied: mysql-connector-python==8.0.17 in c:\\users\\sakma\\anaconda3\\lib\\site-packages (from modlamp) (8.0.17)\n",
      "Requirement already satisfied: protobuf>=3.0.0 in c:\\users\\sakma\\anaconda3\\lib\\site-packages (from mysql-connector-python==8.0.17->modlamp) (4.23.2)\n",
      "Requirement already satisfied: fonttools>=4.22.0 in c:\\users\\sakma\\anaconda3\\lib\\site-packages (from matplotlib>=1.5.1->modlamp) (4.25.0)\n",
      "Requirement already satisfied: contourpy>=1.0.1 in c:\\users\\sakma\\anaconda3\\lib\\site-packages (from matplotlib>=1.5.1->modlamp) (1.0.5)\n",
      "Requirement already satisfied: python-dateutil>=2.7 in c:\\users\\sakma\\anaconda3\\lib\\site-packages (from matplotlib>=1.5.1->modlamp) (2.8.2)\n",
      "Requirement already satisfied: kiwisolver>=1.0.1 in c:\\users\\sakma\\anaconda3\\lib\\site-packages (from matplotlib>=1.5.1->modlamp) (1.4.4)\n",
      "Requirement already satisfied: packaging>=20.0 in c:\\users\\sakma\\anaconda3\\lib\\site-packages (from matplotlib>=1.5.1->modlamp) (22.0)\n",
      "Requirement already satisfied: pyparsing>=2.3.1 in c:\\users\\sakma\\anaconda3\\lib\\site-packages (from matplotlib>=1.5.1->modlamp) (3.0.9)\n",
      "Requirement already satisfied: cycler>=0.10 in c:\\users\\sakma\\anaconda3\\lib\\site-packages (from matplotlib>=1.5.1->modlamp) (0.11.0)\n",
      "Requirement already satisfied: pillow>=6.2.0 in c:\\users\\sakma\\anaconda3\\lib\\site-packages (from matplotlib>=1.5.1->modlamp) (9.4.0)\n",
      "Requirement already satisfied: pytz>=2020.1 in c:\\users\\sakma\\anaconda3\\lib\\site-packages (from pandas>=0.18.1->modlamp) (2022.7)\n",
      "Requirement already satisfied: urllib3<1.27,>=1.21.1 in c:\\users\\sakma\\anaconda3\\lib\\site-packages (from requests>=2.11.1->modlamp) (1.26.14)\n",
      "Requirement already satisfied: idna<4,>=2.5 in c:\\users\\sakma\\anaconda3\\lib\\site-packages (from requests>=2.11.1->modlamp) (3.4)\n",
      "Requirement already satisfied: certifi>=2017.4.17 in c:\\users\\sakma\\anaconda3\\lib\\site-packages (from requests>=2.11.1->modlamp) (2022.12.7)\n",
      "Requirement already satisfied: charset-normalizer<3,>=2 in c:\\users\\sakma\\anaconda3\\lib\\site-packages (from requests>=2.11.1->modlamp) (2.0.4)\n",
      "Requirement already satisfied: threadpoolctl>=2.0.0 in c:\\users\\sakma\\anaconda3\\lib\\site-packages (from scikit-learn>=0.18.0->modlamp) (2.2.0)\n",
      "Requirement already satisfied: six>=1.5 in c:\\users\\sakma\\anaconda3\\lib\\site-packages (from python-dateutil>=2.7->matplotlib>=1.5.1->modlamp) (1.16.0)\n"
     ]
    }
   ],
   "source": [
    "pip install modlamp"
   ]
  },
  {
   "cell_type": "code",
   "execution_count": 1,
   "metadata": {},
   "outputs": [],
   "source": [
    "import pandas                      as pd\n",
    "import numpy                       as np\n",
    "import matplotlib.pyplot           as plt\n",
    "import csv\n",
    "from modlamp.descriptors import PeptideDescriptor, GlobalDescriptor"
   ]
  },
  {
   "cell_type": "markdown",
   "metadata": {},
   "source": [
    "## Global Descriptors"
   ]
  },
  {
   "cell_type": "code",
   "execution_count": 2,
   "metadata": {},
   "outputs": [],
   "source": [
    "Global_training_ds = GlobalDescriptor(\"Training_dataset.fasta\")\n",
    "Global_training_ds.calculate_all(amide=False, ph = 7.4)\n",
    "Global_training_ds.featurenames\n",
    "Global_training_ds.descriptor\n",
    "colnames_GD = 'ID, Sequence,Length,MW,Charge,ChargeDensity,pI,InstabilityIndex,Aromaticity,AliphatiIndex,BomanIndex,HydrophobicRatio'\n",
    "Global_training_ds.save_descriptor('C:\\\\Users\\\\sakma\\\\Proyectos python\\\\Artículo ordenado\\\\modlamps_global_descriptos.csv',header=colnames_GD)"
   ]
  },
  {
   "cell_type": "markdown",
   "metadata": {},
   "source": [
    "## Peptide Descriptos"
   ]
  },
  {
   "cell_type": "code",
   "execution_count": 3,
   "metadata": {},
   "outputs": [],
   "source": [
    "Training_ds_PD1 = PeptideDescriptor(\"Training_dataset.fasta\",\"AASI\") #amino acid selectivity index\n",
    "Training_ds_PD1.calculate_global(window=1000, modality='mean')\n",
    "Training_ds_PD2 = PeptideDescriptor(\"Training_dataset.fasta\",\"ABHPRK\") #physicochemical feature scale\n",
    "Training_ds_PD2.calculate_global(window=1000, modality='mean')\n",
    "Training_ds_PD3 = PeptideDescriptor(\"Training_dataset.fasta\",\"argos\") #hydrophobicity scale\n",
    "Training_ds_PD3.calculate_global(window=1000, modality='mean')\n",
    "Training_ds_PD4 = PeptideDescriptor(\"Training_dataset.fasta\",\"bulkiness\") #bulkiness scale\n",
    "Training_ds_PD4.calculate_global(window=1000, modality='mean')\n",
    "Training_ds_PD5 = PeptideDescriptor(\"Training_dataset.fasta\",\"charge_phys\") \n",
    "Training_ds_PD5.calculate_global(window=1000, modality='mean')\n",
    "Training_ds_PD6 = PeptideDescriptor(\"Training_dataset.fasta\",\"charge_acid\") \n",
    "Training_ds_PD6.calculate_global(window=1000, modality='mean')\n",
    "Training_ds_PD7 = PeptideDescriptor(\"Training_dataset.fasta\",\"cougar\") #modlabs inhouse selection of global peptide descriptors\n",
    "Training_ds_PD7.calculate_global(window=1000, modality='mean')\n",
    "Training_ds_PD8 = PeptideDescriptor(\"Training_dataset.fasta\",\"eisenberg\") #hydrophobicity scale\n",
    "Training_ds_PD8.calculate_global(window=1000, modality='mean')\n",
    "Training_ds_PD9 = PeptideDescriptor(\"Training_dataset.fasta\",\"Ez\") #potential that assesses energies\n",
    "Training_ds_PD9.calculate_global(window=1000, modality='mean')\n",
    "Training_ds_PD10 = PeptideDescriptor(\"Training_dataset.fasta\",\"flexibility\") #flexibilitiy scale\n",
    "Training_ds_PD10.calculate_global(window=1000, modality='mean')\n",
    "Training_ds_PD11 = PeptideDescriptor(\"Training_dataset.fasta\",\"grantham\") # polarity and molecular volume\n",
    "Training_ds_PD11.calculate_global(window=1000, modality='mean')\n",
    "Training_ds_PD12 = PeptideDescriptor(\"Training_dataset.fasta\",\"gravy\") #hydrophobicity scale\n",
    "Training_ds_PD12.calculate_global(window=1000, modality='mean')\n",
    "Training_ds_PD13 = PeptideDescriptor(\"Training_dataset.fasta\",\"ISAECI\") #Isotropic Surface Area and Electronic Charge Index \n",
    "Training_ds_PD13.calculate_global(window=1000, modality='mean')\n",
    "Training_ds_PD14 = PeptideDescriptor(\"Training_dataset.fasta\",\"janin\") #hydrophobicity scale\n",
    "Training_ds_PD14.calculate_global(window=1000, modality='mean')\n",
    "Training_ds_PD15 = PeptideDescriptor(\"Training_dataset.fasta\",\"kytedoolittle\") #hydrophobicity scale\n",
    "Training_ds_PD15.calculate_global(window=1000, modality='mean')\n",
    "Training_ds_PD16 = PeptideDescriptor(\"Training_dataset.fasta\",\"levitt_alpha\") #alpha-helix propensity scale\n",
    "Training_ds_PD16.calculate_global(window=1000, modality='mean')\n",
    "Training_ds_PD17 = PeptideDescriptor(\"Training_dataset.fasta\",\"MSS\") #graph-theoretical index\n",
    "Training_ds_PD17.calculate_global(window=1000, modality='mean')\n",
    "Training_ds_PD18 = PeptideDescriptor(\"Training_dataset.fasta\",\"MSW\") #molecular surface based WHIM descriptor\n",
    "Training_ds_PD18.calculate_global(window=1000, modality='mean')\n",
    "Training_ds_PD19 = PeptideDescriptor(\"Training_dataset.fasta\",\"pepArc\") #pharmacophoric feature scale\n",
    "Training_ds_PD19.calculate_global(window=1000, modality='mean')\n",
    "Training_ds_PD20 = PeptideDescriptor(\"Training_dataset.fasta\",\"pepcats\") #pharmacophoric feature scale\n",
    "Training_ds_PD20.calculate_global(window=1000, modality='mean')\n",
    "Training_ds_PD21 = PeptideDescriptor(\"Training_dataset.fasta\",\"polarity\") #polarity scale\n",
    "Training_ds_PD21.calculate_global(window=1000, modality='mean')\n",
    "Training_ds_PD22 = PeptideDescriptor(\"Training_dataset.fasta\",\"PPCALI\") #amino acid property scales\n",
    "Training_ds_PD22.calculate_global(window=1000, modality='mean')\n",
    "Training_ds_PD23 = PeptideDescriptor(\"Training_dataset.fasta\",\"refractivity\") #relative amino acid refractivity values\n",
    "Training_ds_PD23.calculate_global(window=1000, modality='mean')\n",
    "Training_ds_PD24 = PeptideDescriptor(\"Training_dataset.fasta\",\"t_scale\") #PCA derived scale based on amino acid \n",
    "Training_ds_PD24.calculate_global(window=1000, modality='mean')\n",
    "Training_ds_PD25 = PeptideDescriptor(\"Training_dataset.fasta\",\"TM_tend\") #AA transmembrane propensity scale\n",
    "Training_ds_PD25.calculate_global(window=1000, modality='mean')\n",
    "Training_ds_PD26 = PeptideDescriptor(\"Training_dataset.fasta\",\"z3\") #three dimensional Z-scale\n",
    "Training_ds_PD26.calculate_global(window=1000, modality='mean')\n",
    "Training_ds_PD27 = PeptideDescriptor(\"Training_dataset.fasta\",\"z5\") #five dimensional Z-scale\n",
    "Training_ds_PD27.calculate_global(window=1000, modality='mean')\n",
    "Training_ds_PD28 = PeptideDescriptor(\"Training_dataset.fasta\",\"hopp-woods\") ##hydrophobicity scale\n",
    "Training_ds_PD28.calculate_global(window=1000, modality='mean')"
   ]
  },
  {
   "cell_type": "code",
   "execution_count": 4,
   "metadata": {},
   "outputs": [],
   "source": [
    "#List of results\n",
    "DsResultList =  list(zip(Training_ds_PD1.descriptor, Training_ds_PD2.descriptor, Training_ds_PD3.descriptor,Training_ds_PD4.descriptor, \n",
    "                        Training_ds_PD5.descriptor, Training_ds_PD6.descriptor, Training_ds_PD7.descriptor, Training_ds_PD8.descriptor, Training_ds_PD9.descriptor,\n",
    "                          Training_ds_PD10.descriptor, Training_ds_PD11.descriptor, Training_ds_PD12.descriptor, Training_ds_PD13.descriptor, Training_ds_PD14.descriptor,\n",
    "                          Training_ds_PD15.descriptor, Training_ds_PD16.descriptor, Training_ds_PD17.descriptor, Training_ds_PD18.descriptor, Training_ds_PD19.descriptor, \n",
    "                          Training_ds_PD20.descriptor, Training_ds_PD21.descriptor, Training_ds_PD22.descriptor, Training_ds_PD23.descriptor, Training_ds_PD24.descriptor,\n",
    "                          Training_ds_PD25.descriptor,Training_ds_PD26.descriptor, Training_ds_PD27.descriptor, Training_ds_PD28.descriptor))\n",
    "\n",
    "Training_dsResultsDF = pd.DataFrame(DsResultList, columns = ['AASI', 'ABHPRK', 'argos', 'bulkiness', 'charge_phys', 'charge_acid',\n",
    "                                                     'cougar','eisenberg', 'Ez', 'flexibility', 'grantham', 'gravy',  \n",
    "                                                     'ISAECI', 'janin','kytedoolittle', 'levitt_alpha', 'MSS', 'MSW', \n",
    "                                                     'pepArc', 'pepcats', 'polarity', 'PPCALI', 'refractivity', 't_scale',\n",
    "                                                     'TM_tend', 'z3', 'z5',\"hopp-woods\"], index = None)\n",
    "Training_dsResultsDF\n",
    "\n",
    "#Save dataframe\n",
    "Training_dsResultsDF.to_csv ('C:\\\\Users\\\\sakma\\\\Proyectos python\\\\Artículo ordenado\\\\Modlamp_Peptide_descriptors.csv'\n",
    "                     ,index = True, header = True)"
   ]
  },
  {
   "cell_type": "code",
   "execution_count": null,
   "metadata": {},
   "outputs": [],
   "source": []
  }
 ],
 "metadata": {
  "kernelspec": {
   "display_name": "Python 3 (ipykernel)",
   "language": "python",
   "name": "python3"
  },
  "language_info": {
   "codemirror_mode": {
    "name": "ipython",
    "version": 3
   },
   "file_extension": ".py",
   "mimetype": "text/x-python",
   "name": "python",
   "nbconvert_exporter": "python",
   "pygments_lexer": "ipython3",
   "version": "3.10.9"
  }
 },
 "nbformat": 4,
 "nbformat_minor": 2
}
