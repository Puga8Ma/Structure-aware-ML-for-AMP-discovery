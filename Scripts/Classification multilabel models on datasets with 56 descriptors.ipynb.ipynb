{
 "cells": [
  {
   "cell_type": "code",
   "execution_count": null,
   "id": "be47beda",
   "metadata": {},
   "outputs": [],
   "source": [
    "pip install biopython"
   ]
  },
  {
   "cell_type": "code",
   "execution_count": null,
   "id": "38047bbf",
   "metadata": {
    "scrolled": true
   },
   "outputs": [],
   "source": [
    "pip install imblearn"
   ]
  },
  {
   "cell_type": "code",
   "execution_count": null,
   "id": "0d731932",
   "metadata": {},
   "outputs": [],
   "source": [
    "pwd='C:\\\\Users\\\\sakma\\\\Proyectos python'"
   ]
  },
  {
   "cell_type": "code",
   "execution_count": null,
   "id": "b14a0ac3",
   "metadata": {},
   "outputs": [],
   "source": [
    "from sklearn.discriminant_analysis import LinearDiscriminantAnalysis\n",
    "from sklearn.svm                   import LinearSVC\n",
    "from sklearn.pipeline              import make_pipeline\n",
    "from sklearn.linear_model          import LogisticRegression \n",
    "from sklearn.linear_model          import LogisticRegressionCV\n",
    "from sklearn.neural_network        import MLPClassifier\n",
    "from sklearn.neighbors             import NearestCentroid\n",
    "from sklearn.discriminant_analysis import QuadraticDiscriminantAnalysis\n",
    "from sklearn.neighbors             import RadiusNeighborsClassifier\n",
    "from sklearn.linear_model          import RidgeClassifier \n",
    "from sklearn.ensemble              import GradientBoostingClassifier\n",
    "from sklearn.linear_model          import SGDClassifier\n",
    "from sklearn.preprocessing         import StandardScaler\n",
    "from sklearn.linear_model          import Perceptron\n",
    "from sklearn.linear_model          import PassiveAggressiveClassifier\n",
    "from sklearn.gaussian_process      import GaussianProcessClassifier\n",
    "from sklearn.ensemble              import BaggingClassifier\n",
    "from sklearn.ensemble              import RandomForestClassifier\n",
    "from sklearn.naive_bayes           import BernoulliNB\n",
    "from sklearn.tree                  import DecisionTreeClassifier\n",
    "from sklearn.ensemble              import BaggingClassifier\n",
    "from sklearn.tree                  import ExtraTreeClassifier\n",
    "from sklearn.ensemble              import ExtraTreesClassifier\n",
    "from sklearn.naive_bayes           import GaussianNB\n",
    "from sklearn.neighbors             import KNeighborsClassifier\n",
    "from sklearn.naive_bayes           import MultinomialNB\n",
    "import os\n",
    "import csv\n",
    "import random\n",
    "import urllib.request\n",
    "import pandas                      as pd\n",
    "import numpy                       as np\n",
    "import seaborn                     as sns\n",
    "from sklearn                       import preprocessing\n",
    "from itertools                     import permutations \n",
    "from matplotlib                    import pyplot\n",
    "from os                            import path\n",
    "from imblearn.over_sampling        import RandomOverSampler,SMOTE,ADASYN\n",
    "from sklearn.feature_selection     import VarianceThreshold\n",
    "from sklearn.model_selection       import train_test_split,KFold\n",
    "from sklearn                       import model_selection, metrics\n",
    "from sklearn.model_selection       import cross_val_score\n",
    "from sklearn.model_selection       import StratifiedKFold\n",
    "from sklearn.metrics               import classification_report\n",
    "from sklearn.metrics               import confusion_matrix\n",
    "from sklearn.metrics               import accuracy_score\n",
    "from sklearn.metrics               import recall_score\n",
    "from sklearn.metrics               import f1_score\n",
    "from sklearn.metrics               import precision_score\n",
    "from sklearn.metrics               import (accuracy_score, cohen_kappa_score, roc_auc_score,\n",
    "matthews_corrcoef, average_precision_score)\n",
    "from sklearn.multioutput           import MultiOutputClassifier\n",
    "from sklearn.multiclass            import OneVsRestClassifier\n",
    "from sklearn.model_selection       import GridSearchCV\n",
    "\n",
    "seed= 1408"
   ]
  },
  {
   "cell_type": "markdown",
   "id": "d88b7324",
   "metadata": {},
   "source": [
    "### Loading dataset"
   ]
  },
  {
   "cell_type": "code",
   "execution_count": null,
   "id": "8ca6747d",
   "metadata": {},
   "outputs": [],
   "source": [
    "Multilabel=pd.read_csv('PCPs_unique_MDPs_MPPs_PAPs.csv', index_col='ID')\n",
    "Multilabel.head(10)"
   ]
  },
  {
   "cell_type": "code",
   "execution_count": null,
   "id": "7bfb5c41",
   "metadata": {},
   "outputs": [],
   "source": [
    "Multilabel_model_lb= Multilabel.drop(Multilabel.columns[1:57],axis=1)\n",
    "Multilabel_model_var = Multilabel.drop(Multilabel.columns[0],axis=1)\n",
    "Multilabel_model_var.head(10)"
   ]
  },
  {
   "cell_type": "code",
   "execution_count": null,
   "id": "81f320bb",
   "metadata": {},
   "outputs": [],
   "source": [
    "#Normalize\n",
    "def normalize(Multilabel_model_var):\n",
    "    result = Multilabel_model_var.copy()\n",
    "    for feature_name in Multilabel_model_var.columns:\n",
    "        max_value = Multilabel_model_var[feature_name].max()\n",
    "        min_value = Multilabel_model_var[feature_name].min()\n",
    "        result[feature_name] = (Multilabel_model_var[feature_name] - min_value) / (max_value - min_value)\n",
    "    return result\n",
    "\n",
    "#Normalizar el dataset\n",
    "Multilabel_model_norm = normalize(Multilabel_model_var)\n",
    "Multilabel_model_norm.head(10)"
   ]
  },
  {
   "cell_type": "code",
   "execution_count": null,
   "id": "18fea892",
   "metadata": {},
   "outputs": [],
   "source": [
    "#Concat label and variables\n",
    "Multilabel_model_1=pd.concat([Multilabel_model_lb,Multilabel_model_norm], axis=1)\n",
    "Multilabel_model_1.head(10)"
   ]
  },
  {
   "cell_type": "code",
   "execution_count": null,
   "id": "b0493a56",
   "metadata": {},
   "outputs": [],
   "source": [
    "# Label character to numeric\n",
    "Lab_num_mlabel=preprocessing.LabelEncoder()\n",
    "Lab_num_mlabel.fit(Multilabel_model_1.Label)\n",
    "new_lab=Lab_num_mlabel.transform(Multilabel_model_1.Label)\n",
    "Multilabel_model_1.Label=new_lab"
   ]
  },
  {
   "cell_type": "code",
   "execution_count": null,
   "id": "e19ec44d",
   "metadata": {},
   "outputs": [],
   "source": [
    "Lab_num_mlabel.classes_"
   ]
  },
  {
   "cell_type": "code",
   "execution_count": null,
   "id": "3fde78d0",
   "metadata": {},
   "outputs": [],
   "source": [
    "#Loading multilabel models\n",
    "model_RF  = RandomForestClassifier(random_state=seed,verbose=False)\n",
    "model_ETC = ExtraTreeClassifier(random_state=seed)\n",
    "model_KNN = KNeighborsClassifier(n_neighbors=5, metric='minkowski')\n",
    "model_NN  = MLPClassifier(random_state=seed,max_iter=2000)\n",
    "model_RNC = RadiusNeighborsClassifier(radius=3.0)\n",
    "model_DTC = DecisionTreeClassifier(random_state=seed)\n",
    "model_RC  = RidgeClassifier()\n",
    "model_BNB = BernoulliNB()\n",
    "model_GAUS= GaussianNB()\n",
    "model_LDA = LinearDiscriminantAnalysis()\n",
    "model_NC  = NearestCentroid()\n",
    "model_GBC = GradientBoostingClassifier(random_state=seed,verbose=False)\n",
    "model_SGDC= SGDClassifier(loss='log_loss', random_state=seed)\n",
    "model_P   = NearestCentroid()\n",
    "model_PAC = PassiveAggressiveClassifier(max_iter=2000, random_state=seed,tol=1e-5)\n",
    "model_MNB = MultinomialNB()\n",
    "model_LR  = LogisticRegression(random_state=seed, verbose=False)\n",
    "model_QDA = QuadraticDiscriminantAnalysis()"
   ]
  },
  {
   "cell_type": "code",
   "execution_count": null,
   "id": "277cd2ed",
   "metadata": {},
   "outputs": [],
   "source": [
    "#Data splitting  \n",
    "Ds_splt_ml=Multilabel_model_1\n",
    "metrics = []\n",
    "X_train_ML,X_validation_ML,Y_train_ML,Y_validation_ML= train_test_split(Ds_splt_ml[Ds_splt_ml.columns[1:len(Ds_splt_ml.columns)]],\n",
    "                                                                        Ds_splt_ml[Ds_splt_ml.columns[0]],test_size=0.20,random_state=1408)"
   ]
  },
  {
   "cell_type": "code",
   "execution_count": null,
   "id": "5a42f997",
   "metadata": {},
   "outputs": [],
   "source": [
    "# ROSE for Binary Imbalanced\n",
    "rose=SMOTE(random_state=seed)\n",
    "X_train_rose,Y_train_rose=rose.fit_resample(X_train_ML,Y_train_ML)"
   ]
  },
  {
   "cell_type": "code",
   "execution_count": null,
   "id": "584424d8",
   "metadata": {},
   "outputs": [],
   "source": [
    "#Training models\n",
    "model_rf  = model_RF.fit(X_train_rose,Y_train_rose)\n",
    "model_etc = model_ETC.fit(X_train_rose,Y_train_rose)\n",
    "model_knn = model_KNN.fit(X_train_rose,Y_train_rose)\n",
    "model_nn  = model_NN.fit(X_train_rose,Y_train_rose)\n",
    "model_rnc = model_RNC.fit(X_train_rose,Y_train_rose)\n",
    "model_dtc = model_DTC.fit(X_train_rose,Y_train_rose)\n",
    "model_rc  = model_RC.fit(X_train_rose,Y_train_rose)\n",
    "model_bnb = model_BNB.fit(X_train_rose,Y_train_rose)\n",
    "model_gaus= model_GAUS.fit(X_train_rose,Y_train_rose)\n",
    "model_lda = model_LDA.fit(X_train_rose,Y_train_rose)\n",
    "model_nc  = model_NC.fit(X_train_rose,Y_train_rose)\n",
    "model_gbc = model_GBC.fit(X_train_rose,Y_train_rose)\n",
    "model_sgdc= model_SGDC.fit(X_train_rose,Y_train_rose)\n",
    "model_p   = model_P.fit(X_train_rose,Y_train_rose)\n",
    "model_pac = model_PAC.fit(X_train_rose,Y_train_rose)\n",
    "model_mnb = model_MNB.fit(X_train_rose,Y_train_rose)"
   ]
  },
  {
   "cell_type": "code",
   "execution_count": null,
   "id": "b11f94f4",
   "metadata": {},
   "outputs": [],
   "source": [
    "#List\n",
    "train_shape=list(X_train_rose.shape)\n",
    "test_shape=list(X_validation_ML.shape)"
   ]
  },
  {
   "cell_type": "markdown",
   "id": "23390948",
   "metadata": {},
   "source": [
    "### Random Forest"
   ]
  },
  {
   "cell_type": "code",
   "execution_count": null,
   "id": "3edf9b32",
   "metadata": {},
   "outputs": [],
   "source": [
    "model_trained= model_rf\n",
    "X = X_train_rose\n",
    "Y = Y_train_rose\n",
    "cv_preds = model_selection.cross_val_predict(model_trained, X, Y, cv=10)\n",
    "\n",
    "# Save metrics\n",
    "accuracy  = cross_val_score(model_RF, X_train_rose, Y_train_rose, cv=10, scoring='accuracy').mean()*100\n",
    "precision = cross_val_score(model_RF, X_train_rose, Y_train_rose, cv=10, scoring='precision_macro').mean()*100\n",
    "recall  = cross_val_score(model_RF, X_train_rose, Y_train_rose, cv=10, scoring='recall_macro').mean()\n",
    "F1      = cross_val_score(model_RF, X_train_rose, Y_train_rose, cv=10, scoring='f1_macro').mean()\n",
    "MC      = matthews_corrcoef(Y_train_rose,cv_preds)\n",
    "CK      = cohen_kappa_score(Y_train_rose,cv_preds)\n",
    "\n",
    "metrics_cv_rf= {'validation_type/Model':'cv/model','Rows_training':train_shape[0],'columns_training':train_shape[1],\n",
    "               'Rows_test':test_shape[0],'Accuracy':accuracy,'Precision':precision,'Recall':recall,'F1_score':F1,\n",
    "               'Matthews':MC,'Cohen_Kappa':CK}\n",
    "metrics.append(metrics_cv_rf)\n",
    "\n",
    "index = ['Multilabel']\n",
    "Ds_metrics_models_model_set = pd.DataFrame(metrics_cv_rf, index=index)\n",
    "Ds_metrics_models_model_set"
   ]
  },
  {
   "cell_type": "code",
   "execution_count": null,
   "id": "4b14a932",
   "metadata": {},
   "outputs": [],
   "source": [
    "# Splitting Validation \n",
    "model_ml_trained_RF    = model_rf\n",
    "X_sp= X_validation_ML\n",
    "Y_sp = Y_validation_ML\n",
    "pred_RF_sp_val= model_ml_trained_RF.predict(X_sp)\n",
    "\n",
    "#Accurancy\n",
    "acc_int = accuracy_score(Y_sp,pred_RF_sp_val)*100\n",
    "# Precision\n",
    "precision_int = precision_score(Y_sp,pred_RF_sp_val, average='macro')*100\n",
    "# Recall\n",
    "recall_int = recall_score(Y_sp,pred_RF_sp_val, average='macro')\n",
    "# F1 score\n",
    "f1_int = f1_score(Y_sp,pred_RF_sp_val, average='macro')\n",
    "# Matthews\n",
    "mc_int = matthews_corrcoef(Y_sp,pred_RF_sp_val)\n",
    "# Cohen_Kappa\n",
    "ck_int = cohen_kappa_score(Y_sp,pred_RF_sp_val)\n",
    "\n",
    "#Save metrics of splitting validation\n",
    "\n",
    "metrics_ml_RF_val_int={'validation_type/Model':'int/RF','Rows_training':train_shape[0],'columns_training':test_shape[1],\n",
    "                    'Rows_test':test_shape[0],'Accuracy':acc_int,'Precision':precision_int,'Recall':recall_int,'F1_score':f1_int,\n",
    "               'Matthews':mc_int,'Cohen_Kappa':ck_int}\n",
    "\n",
    "\n",
    "metrics.append(metrics_ml_RF_val_int)\n",
    "metrics_ml_RF_val_int\n",
    "index = ['Multilabel']\n",
    "Ds_metrics_RF_int =pd.DataFrame(metrics_ml_RF_val_int,index=index)\n",
    "Ds_metrics_RF_int"
   ]
  },
  {
   "cell_type": "code",
   "execution_count": null,
   "id": "4332c40e",
   "metadata": {},
   "outputs": [],
   "source": [
    "#Features importance of principal algorithm\n",
    "names=X_train_rose.columns\n",
    "importance_RF= model_rf.feature_importances_\n",
    "importance_RF_df={'Features':names,'Importance_value':importance_RF}\n",
    "importance_RF=pd.DataFrame(importance_RF_df)\n",
    "importance_RF.sort_values(by=['Importance_value'],inplace=True,ascending=False)\n",
    "rf_imp=importance_RF.head(56)\n",
    "rf_imp"
   ]
  },
  {
   "cell_type": "code",
   "execution_count": null,
   "id": "995a5c63",
   "metadata": {},
   "outputs": [],
   "source": [
    "# Definir el orden personalizado de las features\n",
    "custom_order = ['mw','Charge Density','Acidic', 'cougar', 'Electrophilicity', 'H_bonding','Aliphatic','hydrophobicity_Janin',\n",
    "                'Angle Subtended by the Hydrophobic Residues','Local_flexibility','pI','Aromatic','%Acidic',\n",
    "                'Propensity to in vitro Aggregation','hydrophobicity_Wolfenden','Hydroph Ratio','Instabilidy Index','flexibility',\n",
    "                '%Tiny','charge','MSS','Compositional_characteristic_index','Ez', 'argos','z3','hmoment','Hardness',\n",
    "                'Hydrophobicity_index','Propensity to PPII coil', 'hydrophobicity_Welling', 'Amphiphilicity Index',\n",
    "                'Electronic_properties','ABHPRK','Bulky_properties,','bulkiness','hydrophobicity_Ponnuswamy','levitt_alpha',\n",
    "                '%Aliphatic','hydrophobicity_Zimmerman','AASI','PPCALI','refractivity','Aromaticity', 'hydrophobicity_Cid',\n",
    "                'Electronic_Properties','t_scale', 'Penetration Depth', 'Basic', '%Aromatic', 'pepcats','%Charged',\n",
    "                'hydrophobicity_Jones', 'hydrophobicity_Wilson','%Polar', '%Small','Linear Moment']\n",
    "\n",
    "# Reordenar el DataFrame según el orden personalizado\n",
    "importance_RF = importance_RF.set_index('Features').loc[custom_order].reset_index()"
   ]
  },
  {
   "cell_type": "code",
   "execution_count": null,
   "id": "21236c6e",
   "metadata": {},
   "outputs": [],
   "source": [
    "#Save file\n",
    "importance_RF.to_csv ('C:\\\\Users\\\\sakma\\\\Proyectos Python\\\\Artículo ordenado\\\\Ternary_model.csv', \n",
    "               index = True, header = True)"
   ]
  },
  {
   "cell_type": "code",
   "execution_count": null,
   "id": "725c5f1d",
   "metadata": {},
   "outputs": [],
   "source": [
    "pyplot.figure(figsize=(15,15))\n",
    "plot=sns.barplot(data=importance_RF,y='Features',x='Importance_value',color='#8A2BE2')\n",
    "plt.xlabel(\"Importance\")\n",
    "plt.ylabel(\"Features\")\n",
    "plt.title(\"Feature importance for RF algorithm (model ternary)\")\n",
    "plt.savefig(\"FI_modelo 1.0.pdf\")\n",
    "plt.show(plot)"
   ]
  },
  {
   "cell_type": "markdown",
   "id": "7da22e85",
   "metadata": {},
   "source": [
    "## Validation"
   ]
  },
  {
   "cell_type": "code",
   "execution_count": null,
   "id": "a045e447",
   "metadata": {},
   "outputs": [],
   "source": [
    "Mech_validation=pd.read_csv('ExVal_T1.csv', index_col='ID')\n",
    "Mech_validation.head(10)"
   ]
  },
  {
   "cell_type": "code",
   "execution_count": null,
   "id": "1ef654dc",
   "metadata": {},
   "outputs": [],
   "source": [
    "#Drop Label\n",
    "Mech_validation_wl =Mech_validation.drop(['Label'], axis=1)\n",
    "Mech_validation_wl.head(10)"
   ]
  },
  {
   "cell_type": "code",
   "execution_count": null,
   "id": "652ad3bd",
   "metadata": {},
   "outputs": [],
   "source": [
    "# Normalizar test dataset basado en el dataset del modelo\n",
    "def normalize(Mech_validation_wl,Multilabel_model_var):\n",
    "    result = Mech_validation_wl.copy()\n",
    "    for feature_name in Multilabel_model_var.columns:\n",
    "        max_value = Multilabel_model_var[feature_name].max()\n",
    "        min_value = Multilabel_model_var[feature_name].min()\n",
    "        result[feature_name] = (Mech_validation_wl[feature_name] - min_value) / (max_value - min_value)\n",
    "    return result\n",
    "\n",
    "Mech_val_norm= normalize(Mech_validation_wl,Multilabel_model_var)"
   ]
  },
  {
   "cell_type": "code",
   "execution_count": null,
   "id": "772d86ff",
   "metadata": {},
   "outputs": [],
   "source": [
    "#Prediction\n",
    "Mech_val_predict=pd.DataFrame(model_trained.predict(Mech_val_norm))\n",
    "Mech_val_predict"
   ]
  },
  {
   "cell_type": "code",
   "execution_count": null,
   "id": "f5c00a66",
   "metadata": {},
   "outputs": [],
   "source": [
    "#Save file\n",
    "Mech_val_predict.to_csv ('C:\\\\Users\\\\sakma\\\\Proyectos Python\\\\Artículo ordenado\\\\prob_Model5_valEx5_5.csv', \n",
    "               index = True, header = True)"
   ]
  },
  {
   "cell_type": "code",
   "execution_count": null,
   "id": "435844f7",
   "metadata": {},
   "outputs": [],
   "source": [
    "#Probability of each label\n",
    "Mech_val_prob=pd.DataFrame(model_trained_rf.predict_proba(Mech_val_norm))\n",
    "Mech_val_prob"
   ]
  },
  {
   "cell_type": "code",
   "execution_count": null,
   "id": "1ba633da",
   "metadata": {},
   "outputs": [],
   "source": [
    "#Save model set results into dataframe\n",
    "Mech_val_class = pd.DataFrame(model_trained.predict(Mech_val_norm))\n",
    "Mech_val_df =Mech_val_class.merge(Mech_val_prob, how='outer', left_index=True, right_index=True)\n",
    "Mech_val_df.index = Mech_val_norm.index\n",
    "Mech_val_df.columns = ['Model1_class_pr', 'Model1_prob_MDPs', 'Model1_prob_MPPs','Model1_prob_PAPs']\n",
    "Mech_val_df"
   ]
  },
  {
   "cell_type": "code",
   "execution_count": null,
   "id": "2fad76f9",
   "metadata": {},
   "outputs": [],
   "source": [
    "#Save file\n",
    "Mech_val_df.to_csv ('C:\\\\Users\\\\sakma\\\\Proyectos Python\\\\Artículo ordenado\\\\prob_Mod4_valEx5_ternary.csv', \n",
    "               index = True, header = True)"
   ]
  },
  {
   "cell_type": "code",
   "execution_count": null,
   "id": "275263fc",
   "metadata": {},
   "outputs": [],
   "source": [
    "from sklearn.metrics import confusion_matrix, ConfusionMatrixDisplay\n",
    "\n",
    "disp = ConfusionMatrixDisplay(confusion_matrix=confusion, display_labels=model_trained.classes_)\n",
    "\n",
    "# Configurar el mapa de colores inverso (viridis_r)\n",
    "#cmap = plt.get_cmap('Blues')\n",
    "cmap = plt.get_cmap('GnBu')\n",
    "\n",
    "# Mostrar la matriz de confusión\n",
    "disp.plot(cmap=cmap,values_format='.0f')\n",
    "\n",
    "# Save plot\n",
    "plt.savefig(\"Mtx_confusion_Modelo 4.4.pdf\")\n",
    "#plt.savefig(\"Mtx_confusion_Modelo 1.4(Blue).pdf\")\n",
    "plt.show()"
   ]
  },
  {
   "cell_type": "markdown",
   "id": "89b78db0",
   "metadata": {},
   "source": [
    "### Extra Tree Classifier"
   ]
  },
  {
   "cell_type": "code",
   "execution_count": null,
   "id": "30fc5c4c",
   "metadata": {},
   "outputs": [],
   "source": [
    "model_trained= model_etc\n",
    "X = X_train_rose\n",
    "Y = Y_train_rose\n",
    "cv_preds = model_selection.cross_val_predict(model_trained, X, Y, cv=10)\n",
    "\n",
    "# Save metrics\n",
    "accuracy  = cross_val_score(model_ETC, X_train_rose, Y_train_rose, cv=10, scoring='accuracy').mean()*100\n",
    "precision = cross_val_score(model_ETC, X_train_rose, Y_train_rose, cv=10, scoring='precision_macro').mean()*100\n",
    "recall  = cross_val_score(model_ETC, X_train_rose, Y_train_rose, cv=10, scoring='recall_macro').mean()\n",
    "F1      = cross_val_score(model_ETC, X_train_rose, Y_train_rose, cv=10, scoring='f1_macro').mean()\n",
    "MC      = matthews_corrcoef(Y_train_rose,cv_preds)\n",
    "CK      = cohen_kappa_score(Y_train_rose,cv_preds)\n",
    "\n",
    "metrics_cv_ETC= {'validation_type/Model':'cv/model','Rows_training':train_shape[0],'columns_training':train_shape[1],\n",
    "               'Rows_test':test_shape[0],'Accuracy':accuracy,'Precision':precision,'Recall':recall,'F1_score':F1,\n",
    "               'Matthews':MC,'Cohen_Kappa':CK}\n",
    "metrics.append(metrics_cv_ETC)\n",
    "\n",
    "index = ['Multilabel']\n",
    "Ds_metrics_models_model_set = pd.DataFrame(metrics_cv_ETC, index=index)\n",
    "Ds_metrics_models_model_set"
   ]
  },
  {
   "cell_type": "code",
   "execution_count": null,
   "id": "01a18c32",
   "metadata": {},
   "outputs": [],
   "source": [
    "# Splitting Validation \n",
    "model_ml_trained_ETC    = model_etc\n",
    "X_sp= X_validation_ML\n",
    "Y_sp = Y_validation_ML\n",
    "pred_ETC_sp_val= model_ml_trained_ETC.predict(X_sp)\n",
    "\n",
    "#Accurancy\n",
    "acc_int = accuracy_score(Y_sp,pred_ETC_sp_val)*100\n",
    "# Precision\n",
    "precision_int = precision_score(Y_sp,pred_ETC_sp_val, average='macro')*100\n",
    "# Recall\n",
    "recall_int = recall_score(Y_sp,pred_ETC_sp_val, average='macro')\n",
    "# F1 score\n",
    "f1_int = f1_score(Y_sp,pred_ETC_sp_val, average='macro')\n",
    "# Matthews\n",
    "mc_int = matthews_corrcoef(Y_sp,pred_ETC_sp_val)\n",
    "# Cohen_Kappa\n",
    "ck_int = cohen_kappa_score(Y_sp,pred_ETC_sp_val)\n",
    "\n",
    "#Save metrics of splitting validation\n",
    "\n",
    "metrics_ml_ETC_val_int={'validation_type/Model':'int/ETC','Rows_training':train_shape[0],'columns_training':test_shape[1],\n",
    "                    'Rows_test':test_shape[0],'Accuracy':acc_int,'Precision':precision_int,'Recall':recall_int,'F1_score':f1_int,\n",
    "               'Matthews':mc_int,'Cohen_Kappa':ck_int}\n",
    "\n",
    "\n",
    "metrics.append(metrics_ml_ETC_val_int)\n",
    "metrics_ml_ETC_val_int\n",
    "index = ['Multilabel']\n",
    "Ds_metrics_ETC_int =pd.DataFrame(metrics_ml_ETC_val_int,index=index)\n",
    "Ds_metrics_ETC_int"
   ]
  },
  {
   "cell_type": "markdown",
   "id": "eb0200ff",
   "metadata": {},
   "source": [
    "### KNN"
   ]
  },
  {
   "cell_type": "code",
   "execution_count": null,
   "id": "623a8bf7",
   "metadata": {},
   "outputs": [],
   "source": [
    "model_trained= model_knn\n",
    "X = X_train_rose\n",
    "Y = Y_train_rose\n",
    "cv_preds = model_selection.cross_val_predict(model_trained, X, Y, cv=10)\n",
    "\n",
    "# Save metrics\n",
    "accuracy  = cross_val_score(model_KNN, X_train_rose, Y_train_rose, cv=10, scoring='accuracy').mean()*100\n",
    "precision = cross_val_score(model_KNN, X_train_rose, Y_train_rose, cv=10, scoring='precision_macro').mean()*100\n",
    "recall  = cross_val_score(model_KNN, X_train_rose, Y_train_rose, cv=10, scoring='recall_macro').mean()\n",
    "F1      = cross_val_score(model_KNN, X_train_rose, Y_train_rose, cv=10, scoring='f1_macro').mean()\n",
    "MC      = matthews_corrcoef(Y_train_rose,cv_preds)\n",
    "CK      = cohen_kappa_score(Y_train_rose,cv_preds)\n",
    "\n",
    "metrics_cv_KNN= {'validation_type/Model':'cv/model','Rows_training':train_shape[0],'columns_training':train_shape[1],\n",
    "               'Rows_test':test_shape[0],'Accuracy':accuracy,'Precision':precision,'Recall':recall,'F1_score':F1,\n",
    "               'Matthews':MC,'Cohen_Kappa':CK}\n",
    "metrics.append(metrics_cv_KNN)\n",
    "\n",
    "index = ['Multilabel']\n",
    "Ds_metrics_models_model_set = pd.DataFrame(metrics_cv_KNN, index=index)\n",
    "Ds_metrics_models_model_set"
   ]
  },
  {
   "cell_type": "code",
   "execution_count": null,
   "id": "e9269334",
   "metadata": {},
   "outputs": [],
   "source": [
    "# Splitting Validation \n",
    "model_ml_trained_KNN    = model_knn\n",
    "X_sp= X_validation_ML\n",
    "Y_sp = Y_validation_ML\n",
    "pred_KNN_sp_val= model_ml_trained_KNN.predict(X_sp)\n",
    "\n",
    "\n",
    "#Accurancy\n",
    "acc_int = accuracy_score(Y_sp,pred_KNN_sp_val)*100\n",
    "# Precision\n",
    "precision_int = precision_score(Y_sp,pred_KNN_sp_val, average='macro')*100\n",
    "# Recall\n",
    "recall_int = recall_score(Y_sp,pred_KNN_sp_val, average='macro')\n",
    "# F1 score\n",
    "f1_int = f1_score(Y_sp,pred_KNN_sp_val, average='macro')\n",
    "# Matthews\n",
    "mc_int = matthews_corrcoef(Y_sp,pred_KNN_sp_val)\n",
    "# Cohen_Kappa\n",
    "ck_int = cohen_kappa_score(Y_sp,pred_KNN_sp_val)\n",
    "\n",
    "#Save metrics of splitting validation\n",
    "\n",
    "metrics_ml_KNN_val_int={'validation_type/Model':'int/KNN','Rows_training':train_shape[0],'columns_training':test_shape[1],\n",
    "                    'Rows_test':test_shape[0],'Accuracy':acc_int,'Precision':precision_int,'Recall':recall_int,'F1_score':f1_int,\n",
    "               'Matthews':mc_int,'Cohen_Kappa':ck_int}\n",
    "\n",
    "\n",
    "metrics.append(metrics_ml_KNN_val_int)\n",
    "metrics_ml_KNN_val_int\n",
    "index = ['Multilabel']\n",
    "Ds_metrics_KNN_int =pd.DataFrame(metrics_ml_KNN_val_int,index=index)\n",
    "Ds_metrics_KNN_int"
   ]
  },
  {
   "cell_type": "markdown",
   "id": "7e953ae6",
   "metadata": {},
   "source": [
    "### Radius Neighbors Classifier"
   ]
  },
  {
   "cell_type": "code",
   "execution_count": null,
   "id": "7a9717b4",
   "metadata": {},
   "outputs": [],
   "source": [
    "from sklearn.metrics import matthews_corrcoef, cohen_kappa_score, precision_recall_fscore_support\n",
    "from sklearn.metrics import make_scorer\n",
    "\n",
    "model_trained= model_rnc\n",
    "X = X_train_rose\n",
    "Y = Y_train_rose\n",
    "cv_preds = model_selection.cross_val_predict(model_trained, X, Y, cv=10)\n",
    "\n",
    "# Save metrics\n",
    "accuracy  = cross_val_score(model_RNC, X_train_rose, Y_train_rose, cv=10, scoring='accuracy').mean()*100\n",
    "#precision = cross_val_score(model_RNC, X_train_rose, Y_train_rose, cv=10, scoring='precision_macro').mean()*100\n",
    "recall  = cross_val_score(model_RNC, X_train_rose, Y_train_rose, cv=10, scoring='recall_macro').mean()\n",
    "F1      = cross_val_score(model_RNC, X_train_rose, Y_train_rose, cv=10, scoring='f1_macro').mean()\n",
    "MC      = matthews_corrcoef(Y_train_rose,cv_preds)\n",
    "CK      = cohen_kappa_score(Y_train_rose,cv_preds)\n",
    "\n",
    "# Métricas multiclase\n",
    "precision_scorer = make_scorer(precision_score, average='macro', zero_division=1)\n",
    "precision = cross_val_score(model_RNC, X_train_rose, Y_train_rose, cv=10, scoring=precision_scorer).mean() * 100\n",
    "\n",
    "\n",
    "metrics_cv_RNC= {'validation_type/Model':'cv/model','Rows_training':train_shape[0],'columns_training':train_shape[1],\n",
    "               'Rows_test':test_shape[0],'Accuracy':accuracy,'Precision':precision,'Recall':recall,'F1_score':F1,\n",
    "               'Matthews':MC,'Cohen_Kappa':CK}\n",
    "metrics.append(metrics_cv_RNC)\n",
    "\n",
    "index = ['Multilabel']\n",
    "Ds_metrics_models_model_set = pd.DataFrame(metrics_cv_RNC, index=index)\n",
    "Ds_metrics_models_model_set\n"
   ]
  },
  {
   "cell_type": "code",
   "execution_count": null,
   "id": "663a03cd",
   "metadata": {},
   "outputs": [],
   "source": [
    "metrics.append(metrics_cv_RNC)\n",
    "metrics"
   ]
  },
  {
   "cell_type": "code",
   "execution_count": null,
   "id": "0591c228",
   "metadata": {},
   "outputs": [],
   "source": [
    "# Splitting Validation \n",
    "model_ml_trained_RNC    = model_rnc\n",
    "X_sp= X_validation_ML\n",
    "Y_sp = Y_validation_ML\n",
    "pred_RNC_sp_val= model_ml_trained_RNC.predict(X_sp)\n",
    "\n",
    "#Accurancy\n",
    "acc_int = accuracy_score(Y_sp,pred_RNC_sp_val)*100\n",
    "# Precision\n",
    "precision_int = precision_score(Y_sp,pred_RNC_sp_val, average='macro',zero_division=1)*100\n",
    "# Recall\n",
    "recall_int = recall_score(Y_sp,pred_RNC_sp_val, average='macro')\n",
    "# F1 score\n",
    "f1_int = f1_score(Y_sp,pred_RNC_sp_val, average='macro')\n",
    "# Matthews\n",
    "mc_int = matthews_corrcoef(Y_sp,pred_RNC_sp_val)\n",
    "# Cohen_Kappa\n",
    "ck_int = cohen_kappa_score(Y_sp,pred_RNC_sp_val)\n",
    "\n",
    "#Save metrics of splitting validation\n",
    "\n",
    "metrics_ml_RNC_val_int={'validation_type/Model':'int/RNC','Rows_training':train_shape[0],'columns_training':test_shape[1],\n",
    "                    'Rows_test':test_shape[0],'Accuracy':acc_int,'Precision':precision_int,'Recall':recall_int,'F1_score':f1_int,\n",
    "               'Matthews':mc_int,'Cohen_Kappa':ck_int}\n",
    "\n",
    "\n",
    "metrics.append(metrics_ml_RNC_val_int)\n",
    "metrics_ml_RNC_val_int\n",
    "index = ['Multilabel']\n",
    "Ds_metrics_RNC_int =pd.DataFrame(metrics_ml_RNC_val_int,index=index)\n",
    "Ds_metrics_RNC_int"
   ]
  },
  {
   "cell_type": "markdown",
   "id": "4b29f616",
   "metadata": {},
   "source": [
    "### Decision Tree Classifier"
   ]
  },
  {
   "cell_type": "code",
   "execution_count": null,
   "id": "b5e586c8",
   "metadata": {},
   "outputs": [],
   "source": [
    "model_trained= model_dtc\n",
    "X = X_train_rose\n",
    "Y = Y_train_rose\n",
    "cv_preds = model_selection.cross_val_predict(model_trained, X, Y, cv=10)\n",
    "\n",
    "# Save metrics\n",
    "accuracy  = cross_val_score(model_DTC, X_train_rose, Y_train_rose, cv=10, scoring='accuracy').mean()*100\n",
    "precision = cross_val_score(model_DTC, X_train_rose, Y_train_rose, cv=10, scoring='precision_macro').mean()*100\n",
    "recall  = cross_val_score(model_DTC, X_train_rose, Y_train_rose, cv=10, scoring='recall_macro').mean()\n",
    "F1      = cross_val_score(model_DTC, X_train_rose, Y_train_rose, cv=10, scoring='f1_macro').mean()\n",
    "MC      = matthews_corrcoef(Y_train_rose,cv_preds)\n",
    "CK      = cohen_kappa_score(Y_train_rose,cv_preds)\n",
    "\n",
    "metrics_cv_DTC= {'validation_type/Model':'cv/model','Rows_training':train_shape[0],'columns_training':train_shape[1],\n",
    "               'Rows_test':test_shape[0],'Accuracy':accuracy,'Precision':precision,'Recall':recall,'F1_score':F1,\n",
    "               'Matthews':MC,'Cohen_Kappa':CK}\n",
    "metrics.append(metrics_cv_DTC)\n",
    "\n",
    "index = ['Multilabel']\n",
    "Ds_metrics_models_model_set = pd.DataFrame(metrics_cv_DTC, index=index)\n",
    "Ds_metrics_models_model_set"
   ]
  },
  {
   "cell_type": "code",
   "execution_count": null,
   "id": "3deedc9f",
   "metadata": {},
   "outputs": [],
   "source": [
    "# Splitting Validation \n",
    "model_ml_trained_DTC = model_dtc\n",
    "X_sp= X_validation_ML\n",
    "Y_sp = Y_validation_ML\n",
    "pred_DTC_sp_val= model_ml_trained_DTC.predict(X_sp)\n",
    "\n",
    "#Accurancy\n",
    "acc_int = accuracy_score(Y_sp,pred_DTC_sp_val)*100\n",
    "# Precision\n",
    "precision_int = precision_score(Y_sp,pred_DTC_sp_val, average='macro')*100\n",
    "# Recall\n",
    "recall_int = recall_score(Y_sp,pred_DTC_sp_val, average='macro')\n",
    "# F1 score\n",
    "f1_int = f1_score(Y_sp,pred_DTC_sp_val, average='macro')\n",
    "# Matthews\n",
    "mc_int = matthews_corrcoef(Y_sp,pred_DTC_sp_val)\n",
    "# Cohen_Kappa\n",
    "ck_int = cohen_kappa_score(Y_sp,pred_DTC_sp_val)\n",
    "\n",
    "#Save metrics of splitting validation\n",
    "\n",
    "metrics_ml_DTC_val_int={'validation_type/Model':'int/DTC','Rows_training':train_shape[0],'columns_training':test_shape[1],\n",
    "                    'Rows_test':test_shape[0],'Accuracy':acc_int,'Precision':precision_int,'Recall':recall_int,'F1_score':f1_int,\n",
    "               'Matthews':mc_int,'Cohen_Kappa':ck_int}\n",
    "\n",
    "\n",
    "metrics.append(metrics_ml_DTC_val_int)\n",
    "metrics_ml_DTC_val_int\n",
    "index = ['Multilabel']\n",
    "Ds_metrics_DTC_int =pd.DataFrame(metrics_ml_DTC_val_int,index=index)\n",
    "Ds_metrics_DTC_int"
   ]
  },
  {
   "cell_type": "markdown",
   "id": "dfcfe7f5",
   "metadata": {},
   "source": [
    "###  Naive Bayes"
   ]
  },
  {
   "cell_type": "code",
   "execution_count": null,
   "id": "340f5f1e",
   "metadata": {},
   "outputs": [],
   "source": [
    "model_trained= model_gaus\n",
    "X = X_train_rose\n",
    "Y = Y_train_rose\n",
    "cv_preds = model_selection.cross_val_predict(model_trained, X, Y, cv=10)\n",
    "\n",
    "# Save metrics\n",
    "accuracy  = cross_val_score(model_GAUS, X_train_rose, Y_train_rose, cv=10, scoring='accuracy').mean()*100\n",
    "precision = cross_val_score(model_GAUS, X_train_rose, Y_train_rose, cv=10, scoring='precision_macro').mean()*100\n",
    "recall  = cross_val_score(model_GAUS, X_train_rose, Y_train_rose, cv=10, scoring='recall_macro').mean()\n",
    "F1      = cross_val_score(model_GAUS, X_train_rose, Y_train_rose, cv=10, scoring='f1_macro').mean()\n",
    "MC      = matthews_corrcoef(Y_train_rose,cv_preds)\n",
    "CK      = cohen_kappa_score(Y_train_rose,cv_preds)\n",
    "\n",
    "metrics_cv_GAUS= {'validation_type/Model':'cv/model','Rows_training':train_shape[0],'columns_training':train_shape[1],\n",
    "               'Rows_test':test_shape[0],'Accuracy':accuracy,'Precision':precision,'Recall':recall,'F1_score':F1,\n",
    "               'Matthews':MC,'Cohen_Kappa':CK}\n",
    "metrics.append(metrics_cv_GAUS)\n",
    "\n",
    "index = ['Multilabel']\n",
    "Ds_metrics_models_model_set = pd.DataFrame(metrics_cv_GAUS, index=index)\n",
    "Ds_metrics_models_model_set"
   ]
  },
  {
   "cell_type": "code",
   "execution_count": null,
   "id": "17220ad4",
   "metadata": {},
   "outputs": [],
   "source": [
    "# Splitting Validation \n",
    "model_ml_trained_GAUS    = model_gaus\n",
    "X_sp= X_validation_ML\n",
    "Y_sp = Y_validation_ML\n",
    "pred_GAUS_sp_val= model_ml_trained_GAUS.predict(X_sp)\n",
    "\n",
    "#Accurancy\n",
    "acc_int = accuracy_score(Y_sp,pred_GAUS_sp_val)*100\n",
    "# Precision\n",
    "precision_int = precision_score(Y_sp,pred_GAUS_sp_val, average='macro')*100\n",
    "# Recall\n",
    "recall_int = recall_score(Y_sp,pred_GAUS_sp_val, average='macro')\n",
    "# F1 score\n",
    "f1_int = f1_score(Y_sp,pred_GAUS_sp_val, average='macro')\n",
    "# Matthews\n",
    "mc_int = matthews_corrcoef(Y_sp,pred_GAUS_sp_val)\n",
    "# Cohen_Kappa\n",
    "ck_int = cohen_kappa_score(Y_sp,pred_GAUS_sp_val)\n",
    "\n",
    "#Save metrics of splitting validation\n",
    "\n",
    "metrics_ml_GAUS_val_int={'validation_type/Model':'int/GAUS','Rows_training':train_shape[0],'columns_training':test_shape[1],\n",
    "                    'Rows_test':test_shape[0],'Accuracy':acc_int,'Precision':precision_int,'Recall':recall_int,'F1_score':f1_int,\n",
    "               'Matthews':mc_int,'Cohen_Kappa':ck_int}\n",
    "\n",
    "\n",
    "metrics.append(metrics_ml_GAUS_val_int)\n",
    "metrics_ml_GAUS_val_int\n",
    "index = ['Multilabel']\n",
    "Ds_metrics_GAUS_int =pd.DataFrame(metrics_ml_GAUS_val_int,index=index)\n",
    "Ds_metrics_GAUS_int"
   ]
  },
  {
   "cell_type": "markdown",
   "id": "032b311b",
   "metadata": {},
   "source": [
    "### Linear Discriminant Analysis"
   ]
  },
  {
   "cell_type": "code",
   "execution_count": null,
   "id": "88ea8d58",
   "metadata": {
    "scrolled": true
   },
   "outputs": [],
   "source": [
    "model_trained= model_lda\n",
    "X = X_train_rose\n",
    "Y = Y_train_rose\n",
    "cv_preds = model_selection.cross_val_predict(model_trained, X, Y, cv=10)\n",
    "\n",
    "# Save metrics\n",
    "accuracy  = cross_val_score(model_LDA, X_train_rose, Y_train_rose, cv=10, scoring='accuracy').mean()*100\n",
    "precision = cross_val_score(model_LDA, X_train_rose, Y_train_rose, cv=10, scoring='precision_macro').mean()*100\n",
    "recall  = cross_val_score(model_LDA, X_train_rose, Y_train_rose, cv=10, scoring='recall_macro').mean()\n",
    "F1      = cross_val_score(model_LDA, X_train_rose, Y_train_rose, cv=10, scoring='f1_macro').mean()\n",
    "MC      = matthews_corrcoef(Y_train_rose,cv_preds)\n",
    "CK      = cohen_kappa_score(Y_train_rose,cv_preds)\n",
    "\n",
    "metrics_cv_LDA= {'validation_type/Model':'cv/model','Rows_training':train_shape[0],'columns_training':train_shape[1],\n",
    "               'Rows_test':test_shape[0],'Accuracy':accuracy,'Precision':precision,'Recall':recall,'F1_score':F1,\n",
    "               'Matthews':MC,'Cohen_Kappa':CK}\n",
    "metrics.append(metrics_cv_LDA)\n",
    "\n",
    "index = ['Multilabel']\n",
    "Ds_metrics_models_model_set = pd.DataFrame(metrics_cv_LDA, index=index)\n",
    "Ds_metrics_models_model_set"
   ]
  },
  {
   "cell_type": "code",
   "execution_count": null,
   "id": "8a800fe2",
   "metadata": {},
   "outputs": [],
   "source": [
    "# Splitting Validation \n",
    "model_ml_trained_LDA    = model_lda\n",
    "X_sp= X_validation_ML\n",
    "Y_sp = Y_validation_ML\n",
    "pred_LDA_sp_val= model_ml_trained_LDA.predict(X_sp)\n",
    "\n",
    "#Accurancy\n",
    "acc_int = accuracy_score(Y_sp,pred_LDA_sp_val)*100\n",
    "# Precision\n",
    "precision_int = precision_score(Y_sp,pred_LDA_sp_val, average='macro')*100\n",
    "# Recall\n",
    "recall_int = recall_score(Y_sp,pred_LDA_sp_val, average='macro')\n",
    "# F1 score\n",
    "f1_int = f1_score(Y_sp,pred_LDA_sp_val, average='macro')\n",
    "# Matthews\n",
    "mc_int = matthews_corrcoef(Y_sp,pred_LDA_sp_val)\n",
    "# Cohen_Kappa\n",
    "ck_int = cohen_kappa_score(Y_sp,pred_LDA_sp_val)\n",
    "\n",
    "#Save metrics of splitting validation\n",
    "\n",
    "metrics_ml_LDA_val_int={'validation_type/Model':'int/LDA','Rows_training':train_shape[0],'columns_training':test_shape[1],\n",
    "                    'Rows_test':test_shape[0],'Accuracy':acc_int,'Precision':precision_int,'Recall':recall_int,'F1_score':f1_int,\n",
    "               'Matthews':mc_int,'Cohen_Kappa':ck_int}\n",
    "\n",
    "\n",
    "metrics.append(metrics_ml_LDA_val_int)\n",
    "metrics_ml_LDA_val_int\n",
    "index = ['Multilabel']\n",
    "Ds_metrics_LDA_int =pd.DataFrame(metrics_ml_LDA_val_int,index=index)\n",
    "Ds_metrics_LDA_int"
   ]
  },
  {
   "cell_type": "markdown",
   "id": "692bf7e3",
   "metadata": {},
   "source": [
    "### Gradient Boosting "
   ]
  },
  {
   "cell_type": "code",
   "execution_count": null,
   "id": "808a9e43",
   "metadata": {},
   "outputs": [],
   "source": [
    "model_trained= model_gbc\n",
    "X = X_train_rose\n",
    "Y = Y_train_rose\n",
    "cv_preds = model_selection.cross_val_predict(model_trained, X, Y, cv=10)\n",
    "\n",
    "# Save metrics\n",
    "accuracy  = cross_val_score(model_GBC, X_train_rose, Y_train_rose, cv=10, scoring='accuracy').mean()*100\n",
    "precision = cross_val_score(model_GBC, X_train_rose, Y_train_rose, cv=10, scoring='precision_macro').mean()*100\n",
    "recall  = cross_val_score(model_GBC, X_train_rose, Y_train_rose, cv=10, scoring='recall_macro').mean()\n",
    "F1      = cross_val_score(model_GBC, X_train_rose, Y_train_rose, cv=10, scoring='f1_macro').mean()\n",
    "MC      = matthews_corrcoef(Y_train_rose,cv_preds)\n",
    "CK      = cohen_kappa_score(Y_train_rose,cv_preds)\n",
    "\n",
    "metrics_cv_GBC= {'validation_type/Model':'cv/model','Rows_training':train_shape[0],'columns_training':train_shape[1],\n",
    "               'Rows_test':test_shape[0],'Accuracy':accuracy,'Precision':precision,'Recall':recall,'F1_score':F1,\n",
    "               'Matthews':MC,'Cohen_Kappa':CK}\n",
    "metrics.append(metrics_cv_GBC)\n",
    "\n",
    "index = ['Multilabel']\n",
    "Ds_metrics_models_model_set = pd.DataFrame(metrics_cv_GBC, index=index)\n",
    "Ds_metrics_models_model_set"
   ]
  },
  {
   "cell_type": "code",
   "execution_count": null,
   "id": "f23a57e5",
   "metadata": {},
   "outputs": [],
   "source": [
    "# Splitting Validation \n",
    "model_ml_trained_GBC    = model_gbc\n",
    "X_sp= X_validation_ML\n",
    "Y_sp = Y_validation_ML\n",
    "pred_GBC_sp_val= model_ml_trained_GBC.predict(X_sp)\n",
    "\n",
    "#Accurancy\n",
    "acc_int = accuracy_score(Y_sp,pred_GBC_sp_val)*100\n",
    "# Precision\n",
    "precision_int = precision_score(Y_sp,pred_GBC_sp_val, average='macro')*100\n",
    "# Recall\n",
    "recall_int = recall_score(Y_sp,pred_GBC_sp_val, average='macro')\n",
    "# F1 score\n",
    "f1_int = f1_score(Y_sp,pred_GBC_sp_val, average='macro')\n",
    "# Matthews\n",
    "mc_int = matthews_corrcoef(Y_sp,pred_GBC_sp_val)\n",
    "# Cohen_Kappa\n",
    "ck_int = cohen_kappa_score(Y_sp,pred_GBC_sp_val)\n",
    "\n",
    "#Save metrics of splitting validation\n",
    "\n",
    "metrics_ml_GBC_val_int={'validation_type/Model':'int/GBC','Rows_training':train_shape[0],'columns_training':test_shape[1],\n",
    "                    'Rows_test':test_shape[0],'Accuracy':acc_int,'Precision':precision_int,'Recall':recall_int,'F1_score':f1_int,\n",
    "               'Matthews':mc_int,'Cohen_Kappa':ck_int}\n",
    "\n",
    "\n",
    "metrics.append(metrics_ml_GBC_val_int)\n",
    "metrics_ml_GBC_val_int\n",
    "index = ['Multilabel']\n",
    "Ds_metrics_GBC_int =pd.DataFrame(metrics_ml_GBC_val_int,index=index)\n",
    "Ds_metrics_GBC_int"
   ]
  },
  {
   "cell_type": "markdown",
   "id": "164efd7f",
   "metadata": {},
   "source": [
    "### Multinomial GB"
   ]
  },
  {
   "cell_type": "code",
   "execution_count": null,
   "id": "1c69f16c",
   "metadata": {},
   "outputs": [],
   "source": [
    "model_trained= model_MNB\n",
    "X = X_train_rose\n",
    "Y = Y_train_rose\n",
    "cv_preds = model_selection.cross_val_predict(model_trained, X, Y, cv=10)\n",
    "\n",
    "# Save metrics\n",
    "accuracy  = cross_val_score(model_MNB, X_train_rose, Y_train_rose, cv=10, scoring='accuracy').mean()*100\n",
    "precision = cross_val_score(model_MNB, X_train_rose, Y_train_rose, cv=10, scoring='precision_macro').mean()*100\n",
    "recall  = cross_val_score(model_MNB, X_train_rose, Y_train_rose, cv=10, scoring='recall_macro').mean()\n",
    "F1      = cross_val_score(model_MNB, X_train_rose, Y_train_rose, cv=10, scoring='f1_macro').mean()\n",
    "MC      = matthews_corrcoef(Y_train_rose,cv_preds)\n",
    "CK      = cohen_kappa_score(Y_train_rose,cv_preds)\n",
    "\n",
    "metrics_cv_MNB= {'validation_type/Model':'cv/model','Rows_training':train_shape[0],'columns_training':train_shape[1],\n",
    "               'Rows_test':test_shape[0],'Accuracy':accuracy,'Precision':precision,'Recall':recall,'F1_score':F1,\n",
    "               'Matthews':MC,'Cohen_Kappa':CK}\n",
    "metrics.append(metrics_cv_MNB)\n",
    "\n",
    "index = ['Multilabel']\n",
    "Ds_metrics_models_model_set = pd.DataFrame(metrics_cv_MNB, index=index)\n",
    "Ds_metrics_models_model_set"
   ]
  },
  {
   "cell_type": "code",
   "execution_count": null,
   "id": "84ee6787",
   "metadata": {},
   "outputs": [],
   "source": [
    "# Splitting Validation \n",
    "model_ml_trained_MNB    = model_mnb\n",
    "X_sp= X_validation_ML\n",
    "Y_sp = Y_validation_ML\n",
    "pred_MNB_sp_val= model_ml_trained_MNB.predict(X_sp)\n",
    "\n",
    "#Accurancy\n",
    "acc_int = accuracy_score(Y_sp,pred_MNB_sp_val)*100\n",
    "# Precision\n",
    "precision_int = precision_score(Y_sp,pred_MNB_sp_val, average='macro')*100\n",
    "# Recall\n",
    "recall_int = recall_score(Y_sp,pred_MNB_sp_val, average='macro')\n",
    "# F1 score\n",
    "f1_int = f1_score(Y_sp,pred_MNB_sp_val, average='macro')\n",
    "# Matthews\n",
    "mc_int = matthews_corrcoef(Y_sp,pred_MNB_sp_val)\n",
    "# Cohen_Kappa\n",
    "ck_int = cohen_kappa_score(Y_sp,pred_MNB_sp_val)\n",
    "\n",
    "#Save metrics of splitting validation\n",
    "\n",
    "metrics_ml_MNB_val_int={'validation_type/Model':'int/MNB','Rows_training':train_shape[0],'columns_training':test_shape[1],\n",
    "                    'Rows_test':test_shape[0],'Accuracy':acc_int,'Precision':precision_int,'Recall':recall_int,'F1_score':f1_int,\n",
    "               'Matthews':mc_int,'Cohen_Kappa':ck_int}\n",
    "\n",
    "\n",
    "metrics.append(metrics_ml_MNB_val_int)\n",
    "metrics_ml_MNB_val_int\n",
    "index = ['Multilabel']\n",
    "Ds_metrics_MNB_int =pd.DataFrame(metrics_ml_MNB_val_int,index=index)\n",
    "Ds_metrics_MNB_int"
   ]
  }
 ],
 "metadata": {
  "kernelspec": {
   "display_name": "Python 3 (ipykernel)",
   "language": "python",
   "name": "python3"
  },
  "language_info": {
   "codemirror_mode": {
    "name": "ipython",
    "version": 3
   },
   "file_extension": ".py",
   "mimetype": "text/x-python",
   "name": "python",
   "nbconvert_exporter": "python",
   "pygments_lexer": "ipython3",
   "version": "3.10.9"
  }
 },
 "nbformat": 4,
 "nbformat_minor": 5
}
